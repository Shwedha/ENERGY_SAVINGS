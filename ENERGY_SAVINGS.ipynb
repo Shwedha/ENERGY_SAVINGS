{
 "cells": [
  {
   "cell_type": "code",
   "execution_count": 1,
   "metadata": {},
   "outputs": [],
   "source": [
    "##ENERGY SAVINGS IN SINGAPORE FROM THE YEAR 2015 TO 2019\\\n",
    "#IMPORTING THE REQDUIRED DATA\n",
    "import pandas as pd\n",
    "df = pd.read_csv('datasets/wastestats.csv')\n",
    "df_2 = pd.read_csv('datasets/2018_2019_waste.csv')\n",
    "df_2 = df_2.rename(columns = {\"Total Generated ('000 tonnes)\": 'generated_waste', \"Total Recycled ('000 tonnes)\": 'recycled_waste'})\n",
    "df_3 = pd.read_csv('datasets/energy_saved.csv')\n",
    "df = df[df['year'] >= 2015]\n",
    "#CLEANING THE DATA\n",
    "final_df = df.rename(columns = {'waste_type': 'Waste Type', 'year': 'Year'})\n",
    "df_waste_1 = final_df[\"Waste Type\"].replace({\"Non-ferrous metal\": \"Non-ferrous metals\"}, inplace=True)\n",
    "df_waste_1 = final_df[\"Waste Type\"].replace({\"Plastics\": \"Plastic\"}, inplace=True)\n",
    "df_waste_2 = final_df[final_df[\"Waste Type\"].str.contains(\"Non-ferrous metals|Ferrous metal|Glass|Plastic\")]\n",
    "df_2_2 = df_2[df_2[\"Waste Type\"].str.contains(\"Glass|Plastic|Non-Ferrous Metal|Ferrous Metal\")]\n",
    "final_df = pd.merge(df_waste_2 , df_2_2, how='outer', on=('Waste Type' , 'Year'))\n",
    "final_df = final_df.fillna(0)\n",
    "final_df['generated_waste'] =  final_df['generated_waste']*1000\n",
    "final_df['recycled_waste'] = final_df['recycled_waste']*1000\n",
    "final_df['WASTE_GENERATED'] = final_df['total_waste_generated_tonne'] + final_df['generated_waste']\n",
    "final_df['WASTE_RECYCLED'] = final_df['total_waste_recycled_tonne'] + final_df['recycled_waste']\n",
    "final = final_df.drop(columns=['total_waste_recycled_tonne','total_waste_generated_tonne', 'generated_waste','recycled_waste','waste_disposed_of_tonne','recycling_rate','WASTE_GENERATED'])\n",
    "final['Waste Type'] = final['Waste Type'].str.replace('Plastics','Plastic')\n",
    "final['Waste Type'] = final['Waste Type'].str.replace('Ferrous metal','Ferrous Metal')\n",
    "final['Waste Type'] = final['Waste Type'].str.replace('Non-ferrous metals','Non-Ferrous Metal')"
   ]
  },
  {
   "cell_type": "code",
   "execution_count": 2,
   "metadata": {},
   "outputs": [
    {
     "name": "stderr",
     "output_type": "stream",
     "text": [
      "<ipython-input-2-addeecd84efa>:3: SettingWithCopyWarning: \n",
      "A value is trying to be set on a copy of a slice from a DataFrame.\n",
      "Try using .loc[row_indexer,col_indexer] = value instead\n",
      "\n",
      "See the caveats in the documentation: https://pandas.pydata.org/pandas-docs/stable/user_guide/indexing.html#returning-a-view-versus-a-copy\n",
      "  final_glass['WASTE_RECYCLED'] = final_glass['WASTE_RECYCLED']*42\n",
      "<ipython-input-2-addeecd84efa>:5: SettingWithCopyWarning: \n",
      "A value is trying to be set on a copy of a slice from a DataFrame.\n",
      "Try using .loc[row_indexer,col_indexer] = value instead\n",
      "\n",
      "See the caveats in the documentation: https://pandas.pydata.org/pandas-docs/stable/user_guide/indexing.html#returning-a-view-versus-a-copy\n",
      "  final_plastic['WASTE_RECYCLED'] = final_plastic['WASTE_RECYCLED']*5774\n",
      "<ipython-input-2-addeecd84efa>:7: SettingWithCopyWarning: \n",
      "A value is trying to be set on a copy of a slice from a DataFrame.\n",
      "Try using .loc[row_indexer,col_indexer] = value instead\n",
      "\n",
      "See the caveats in the documentation: https://pandas.pydata.org/pandas-docs/stable/user_guide/indexing.html#returning-a-view-versus-a-copy\n",
      "  final_fm['WASTE_RECYCLED'] = final_fm['WASTE_RECYCLED']*642\n",
      "<ipython-input-2-addeecd84efa>:9: SettingWithCopyWarning: \n",
      "A value is trying to be set on a copy of a slice from a DataFrame.\n",
      "Try using .loc[row_indexer,col_indexer] = value instead\n",
      "\n",
      "See the caveats in the documentation: https://pandas.pydata.org/pandas-docs/stable/user_guide/indexing.html#returning-a-view-versus-a-copy\n",
      "  final_nfm['WASTE_RECYCLED'] = final_nfm['WASTE_RECYCLED']*14000\n"
     ]
    }
   ],
   "source": [
    "#PERFORMING EDA\n",
    "final_glass = final.loc[final[\"Waste Type\"] == \"Glass\"]\n",
    "final_glass['WASTE_RECYCLED'] = final_glass['WASTE_RECYCLED']*42\n",
    "final_plastic = final.loc[final[\"Waste Type\"] == \"Plastic\"]\n",
    "final_plastic['WASTE_RECYCLED'] = final_plastic['WASTE_RECYCLED']*5774\n",
    "final_fm = final.loc[final[\"Waste Type\"] == \"Ferrous Metal\"]\n",
    "final_fm['WASTE_RECYCLED'] = final_fm['WASTE_RECYCLED']*642\n",
    "final_nfm = final.loc[final[\"Waste Type\"] == \"Non-Ferrous Metal\"]\n",
    "final_nfm['WASTE_RECYCLED'] = final_nfm['WASTE_RECYCLED']*14000\n",
    "df_final = pd.merge(final_glass ,final_plastic, how='left', on= 'Year')"
   ]
  },
  {
   "cell_type": "code",
   "execution_count": 3,
   "metadata": {},
   "outputs": [],
   "source": [
    "df_final_1 = pd.merge(final_fm ,final_nfm, how='left', on= 'Year')\n",
    "df_final_2 = pd.merge(df_final, df_final_1, how = 'left', on = 'Year')\n",
    "df_final_2['Energy'] = df_final_2['WASTE_RECYCLED_x_x'] + df_final_2['WASTE_RECYCLED_y_x'] +df_final_2['WASTE_RECYCLED_x_y'] + df_final_2['WASTE_RECYCLED_y_y']\n",
    "df_final_2['total_energy_saved'] = df_final_2['Energy']\n",
    "df_final_2['year'] = df_final_2['Year']\n",
    "annual_energy_savings = df_final_2.drop(columns=['Waste Type_x_x','WASTE_RECYCLED_x_x','Waste Type_y_x','WASTE_RECYCLED_y_x', 'Waste Type_x_y', 'WASTE_RECYCLED_x_y', 'Waste Type_y_y','WASTE_RECYCLED_y_y','Energy','Year'])\n"
   ]
  },
  {
   "cell_type": "code",
   "execution_count": 9,
   "metadata": {},
   "outputs": [
    {
     "data": {
      "text/html": [
       "<div>\n",
       "<style scoped>\n",
       "    .dataframe tbody tr th:only-of-type {\n",
       "        vertical-align: middle;\n",
       "    }\n",
       "\n",
       "    .dataframe tbody tr th {\n",
       "        vertical-align: top;\n",
       "    }\n",
       "\n",
       "    .dataframe thead th {\n",
       "        text-align: right;\n",
       "    }\n",
       "</style>\n",
       "<table border=\"1\" class=\"dataframe\">\n",
       "  <thead>\n",
       "    <tr style=\"text-align: right;\">\n",
       "      <th></th>\n",
       "      <th>total_energy_saved</th>\n",
       "    </tr>\n",
       "    <tr>\n",
       "      <th>year</th>\n",
       "      <th></th>\n",
       "    </tr>\n",
       "  </thead>\n",
       "  <tbody>\n",
       "    <tr>\n",
       "      <th>2015</th>\n",
       "      <td>3.435929e+09</td>\n",
       "    </tr>\n",
       "    <tr>\n",
       "      <th>2016</th>\n",
       "      <td>2.554433e+09</td>\n",
       "    </tr>\n",
       "    <tr>\n",
       "      <th>2017</th>\n",
       "      <td>2.470596e+09</td>\n",
       "    </tr>\n",
       "    <tr>\n",
       "      <th>2018</th>\n",
       "      <td>2.698130e+09</td>\n",
       "    </tr>\n",
       "    <tr>\n",
       "      <th>2019</th>\n",
       "      <td>2.765440e+09</td>\n",
       "    </tr>\n",
       "  </tbody>\n",
       "</table>\n",
       "</div>"
      ],
      "text/plain": [
       "      total_energy_saved\n",
       "year                    \n",
       "2015        3.435929e+09\n",
       "2016        2.554433e+09\n",
       "2017        2.470596e+09\n",
       "2018        2.698130e+09\n",
       "2019        2.765440e+09"
      ]
     },
     "execution_count": 9,
     "metadata": {},
     "output_type": "execute_result"
    }
   ],
   "source": [
    "annual_energy_savings = annual_energy_savings.sort_values('year')\n",
    "annual_energy_savings"
   ]
  }
 ],
 "metadata": {
  "kernelspec": {
   "display_name": "Python 3",
   "language": "python",
   "name": "python3"
  },
  "language_info": {
   "codemirror_mode": {
    "name": "ipython",
    "version": 3
   },
   "file_extension": ".py",
   "mimetype": "text/x-python",
   "name": "python",
   "nbconvert_exporter": "python",
   "pygments_lexer": "ipython3",
   "version": "3.8.5"
  }
 },
 "nbformat": 4,
 "nbformat_minor": 4
}
